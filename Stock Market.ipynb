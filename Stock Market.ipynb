{
 "cells": [
  {
   "cell_type": "code",
   "execution_count": 3,
   "metadata": {},
   "outputs": [],
   "source": [
    "from pandas_datareader import data\n",
    "import pandas as pd\n"
   ]
  },
  {
   "cell_type": "code",
   "execution_count": 4,
   "metadata": {},
   "outputs": [],
   "source": [
    "companies_dict = {\n",
    "    \"Adani Ports & SEZ Limited\":\"ADANIPORTS\",\n",
    "\"Asian Paints Ltd\":\"ASIANPAINT\",\n",
    "\"Axis Bank\":\"AXISBANK\",\n",
    "\"Bajaj Auto\":\"BAJAJ-AUTO\",\n",
    "\"Bajaj Finance\":\"BAJFINANCE\",\n",
    "\"Bajaj Finserv\":\"BAJAJFINSV\",\n",
    "\"Bharti Airtel\":\"BHARTIARTL\",\n",
    "\"Bharti Infratel Ltd.\":\"INFRATEL\",\n",
    "\"BPCL\":\"BPCL\",\n",
    "\"Cipla\":\"CIPLA\",\n",
    "\"Coal India\":\"COALINDIA\",\n",
    "\"Dr. Reddy's Laboratories\":\"DRREDDY\",\n",
    "\"Eicher Motors\":\"EICHERMOT\",\n",
    "\"GAIL\":\"GAIL\",\n",
    "\"Grasim Industries\":\"GRASIM\",\n",
    "\"HCL Technologies\":\"HCLTECH\",\n",
    "\"HDFC\":\"HDFC\",\n",
    "\"HDFC Bank\":\"HDFCBANK\",\n",
    "\"Hero MotoCorp\":\"HEROMOTOCO\",\n",
    "\"Hindalco Industries\":\"HINDALCO\",\n",
    "\"Hindustan Unilever\":\"HINDUNILVR\",\n",
    "\"HPCL\":\"HINDPETRO\",\n",
    "\"ICICI Bank\":\"ICICIBANK\",\n",
    "\"Indiabulls Housing Finance\":\"IBULHSGFIN\",\n",
    "\"IndusInd Bank\":\"INDUSINDBK\",\n",
    "\"Infosys\":\"INFY\",\n",
    "\"IOC\":\"IOC\",\n",
    "\"ITC Limited\":\"ITC\",\n",
    "\"JSW Steel\":\"JSWSTEEL\"\n",
    "}"
   ]
  },
  {
   "cell_type": "code",
   "execution_count": 5,
   "metadata": {},
   "outputs": [
    {
     "name": "stdout",
     "output_type": "stream",
     "text": [
      "['ADANIPORTS', 'ASIANPAINT', 'AXISBANK', 'BAJAJ-AUTO', 'BAJFINANCE', 'BAJAJFINSV', 'BHARTIARTL', 'INFRATEL', 'BPCL', 'CIPLA', 'COALINDIA', 'DRREDDY', 'EICHERMOT', 'GAIL', 'GRASIM', 'HCLTECH', 'HDFC', 'HDFCBANK', 'HEROMOTOCO', 'HINDALCO', 'HINDUNILVR', 'HINDPETRO', 'ICICIBANK', 'IBULHSGFIN', 'INDUSINDBK', 'INFY', 'IOC', 'ITC', 'JSWSTEEL']\n"
     ]
    }
   ],
   "source": [
    "#list of ticker names\n",
    "companies = list(companies_dict.values())\n",
    "print(companies)"
   ]
  },
  {
   "cell_type": "code",
   "execution_count": 6,
   "metadata": {},
   "outputs": [],
   "source": [
    "#import yahoo finance\n",
    "import fix_yahoo_finance as yf "
   ]
  },
  {
   "cell_type": "code",
   "execution_count": 16,
   "metadata": {},
   "outputs": [
    {
     "name": "stdout",
     "output_type": "stream",
     "text": [
      "[*********************100%***********************]  29 of 29 downloaded\n"
     ]
    }
   ],
   "source": [
    "#download data\n",
    "panel_data =pd.DataFrame( yf.download(companies, '2016-01-01', '2018-12-31'))"
   ]
  },
  {
   "cell_type": "code",
   "execution_count": 8,
   "metadata": {},
   "outputs": [
    {
     "name": "stdout",
     "output_type": "stream",
     "text": [
      "[DatetimeIndex(['2015-12-31', '2016-01-04', '2016-01-05', '2016-01-06',\n",
      "               '2016-01-07', '2016-01-08', '2016-01-11', '2016-01-12',\n",
      "               '2016-01-13', '2016-01-14',\n",
      "               ...\n",
      "               '2018-12-14', '2018-12-17', '2018-12-18', '2018-12-19',\n",
      "               '2018-12-20', '2018-12-21', '2018-12-24', '2018-12-26',\n",
      "               '2018-12-27', '2018-12-28'],\n",
      "              dtype='datetime64[ns]', name='Date', length=754, freq=None), MultiIndex(levels=[['Adj Close', 'Close', 'High', 'Low', 'Open', 'Volume'], ['ADANIPORTS', 'ASIANPAINT', 'AXISBANK', 'BAJAJ-AUTO', 'BAJFINANCE', 'BAJAJFINSV', 'BHARTIARTL', 'INFRATEL', 'BPCL', 'CIPLA', 'COALINDIA', 'DRREDDY', 'EICHERMOT', 'GAIL', 'GRASIM', 'HCLTECH', 'HDFC', 'HDFCBANK', 'HEROMOTOCO', 'HINDALCO', 'HINDUNILVR', 'HINDPETRO', 'ICICIBANK', 'IBULHSGFIN', 'INDUSINDBK', 'INFY', 'IOC', 'ITC', 'JSWSTEEL']],\n",
      "           labels=[[4, 2, 3, 1, 0, 5], [25, 25, 25, 25, 25, 25]])]\n"
     ]
    }
   ],
   "source": [
    "print(panel_data.axes)"
   ]
  },
  {
   "cell_type": "code",
   "execution_count": 17,
   "metadata": {},
   "outputs": [
    {
     "data": {
      "text/html": [
       "<div>\n",
       "<style scoped>\n",
       "    .dataframe tbody tr th:only-of-type {\n",
       "        vertical-align: middle;\n",
       "    }\n",
       "\n",
       "    .dataframe tbody tr th {\n",
       "        vertical-align: top;\n",
       "    }\n",
       "\n",
       "    .dataframe thead tr th {\n",
       "        text-align: left;\n",
       "    }\n",
       "\n",
       "    .dataframe thead tr:last-of-type th {\n",
       "        text-align: right;\n",
       "    }\n",
       "</style>\n",
       "<table border=\"1\" class=\"dataframe\">\n",
       "  <thead>\n",
       "    <tr>\n",
       "      <th></th>\n",
       "      <th>Open</th>\n",
       "      <th>High</th>\n",
       "      <th>Low</th>\n",
       "      <th>Close</th>\n",
       "      <th>Adj Close</th>\n",
       "      <th>Volume</th>\n",
       "    </tr>\n",
       "    <tr>\n",
       "      <th></th>\n",
       "      <th>INFY</th>\n",
       "      <th>INFY</th>\n",
       "      <th>INFY</th>\n",
       "      <th>INFY</th>\n",
       "      <th>INFY</th>\n",
       "      <th>INFY</th>\n",
       "    </tr>\n",
       "    <tr>\n",
       "      <th>Date</th>\n",
       "      <th></th>\n",
       "      <th></th>\n",
       "      <th></th>\n",
       "      <th></th>\n",
       "      <th></th>\n",
       "      <th></th>\n",
       "    </tr>\n",
       "  </thead>\n",
       "  <tbody>\n",
       "    <tr>\n",
       "      <th>2015-12-31</th>\n",
       "      <td>8.470</td>\n",
       "      <td>8.47</td>\n",
       "      <td>8.360</td>\n",
       "      <td>8.375</td>\n",
       "      <td>6.895006</td>\n",
       "      <td>2945400</td>\n",
       "    </tr>\n",
       "    <tr>\n",
       "      <th>2016-01-04</th>\n",
       "      <td>8.230</td>\n",
       "      <td>8.23</td>\n",
       "      <td>8.115</td>\n",
       "      <td>8.120</td>\n",
       "      <td>6.685069</td>\n",
       "      <td>8218400</td>\n",
       "    </tr>\n",
       "    <tr>\n",
       "      <th>2016-01-05</th>\n",
       "      <td>8.150</td>\n",
       "      <td>8.20</td>\n",
       "      <td>8.070</td>\n",
       "      <td>8.100</td>\n",
       "      <td>6.668603</td>\n",
       "      <td>7265800</td>\n",
       "    </tr>\n",
       "    <tr>\n",
       "      <th>2016-01-06</th>\n",
       "      <td>8.045</td>\n",
       "      <td>8.15</td>\n",
       "      <td>8.000</td>\n",
       "      <td>8.035</td>\n",
       "      <td>6.615089</td>\n",
       "      <td>7042000</td>\n",
       "    </tr>\n",
       "    <tr>\n",
       "      <th>2016-01-07</th>\n",
       "      <td>7.905</td>\n",
       "      <td>8.14</td>\n",
       "      <td>7.880</td>\n",
       "      <td>8.030</td>\n",
       "      <td>6.610972</td>\n",
       "      <td>7850400</td>\n",
       "    </tr>\n",
       "  </tbody>\n",
       "</table>\n",
       "</div>"
      ],
      "text/plain": [
       "             Open  High    Low  Close Adj Close   Volume\n",
       "             INFY  INFY   INFY   INFY      INFY     INFY\n",
       "Date                                                    \n",
       "2015-12-31  8.470  8.47  8.360  8.375  6.895006  2945400\n",
       "2016-01-04  8.230  8.23  8.115  8.120  6.685069  8218400\n",
       "2016-01-05  8.150  8.20  8.070  8.100  6.668603  7265800\n",
       "2016-01-06  8.045  8.15  8.000  8.035  6.615089  7042000\n",
       "2016-01-07  7.905  8.14  7.880  8.030  6.610972  7850400"
      ]
     },
     "execution_count": 17,
     "metadata": {},
     "output_type": "execute_result"
    }
   ],
   "source": [
    "panel_data.head()"
   ]
  },
  {
   "cell_type": "code",
   "execution_count": null,
   "metadata": {},
   "outputs": [],
   "source": []
  },
  {
   "cell_type": "code",
   "execution_count": null,
   "metadata": {},
   "outputs": [],
   "source": []
  },
  {
   "cell_type": "code",
   "execution_count": null,
   "metadata": {},
   "outputs": [],
   "source": []
  }
 ],
 "metadata": {
  "kernelspec": {
   "display_name": "Python 3",
   "language": "python",
   "name": "python3"
  },
  "language_info": {
   "codemirror_mode": {
    "name": "ipython",
    "version": 3
   },
   "file_extension": ".py",
   "mimetype": "text/x-python",
   "name": "python",
   "nbconvert_exporter": "python",
   "pygments_lexer": "ipython3",
   "version": "3.7.2"
  }
 },
 "nbformat": 4,
 "nbformat_minor": 2
}
