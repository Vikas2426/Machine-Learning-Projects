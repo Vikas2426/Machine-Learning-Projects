{
 "cells": [
  {
   "cell_type": "code",
   "execution_count": 1,
   "metadata": {},
   "outputs": [],
   "source": [
    "import pandas as pd\n",
    "import numpy as np\n",
    "import matplotlib.pyplot as plt\n",
    "import seaborn as sns\n",
    "from sklearn.model_selection import train_test_split"
   ]
  },
  {
   "cell_type": "code",
   "execution_count": 2,
   "metadata": {},
   "outputs": [],
   "source": [
    "df = pd.read_csv(\"BreastCancer.csv\")"
   ]
  },
  {
   "cell_type": "code",
   "execution_count": 3,
   "metadata": {},
   "outputs": [
    {
     "data": {
      "text/html": [
       "<div>\n",
       "<style scoped>\n",
       "    .dataframe tbody tr th:only-of-type {\n",
       "        vertical-align: middle;\n",
       "    }\n",
       "\n",
       "    .dataframe tbody tr th {\n",
       "        vertical-align: top;\n",
       "    }\n",
       "\n",
       "    .dataframe thead th {\n",
       "        text-align: right;\n",
       "    }\n",
       "</style>\n",
       "<table border=\"1\" class=\"dataframe\">\n",
       "  <thead>\n",
       "    <tr style=\"text-align: right;\">\n",
       "      <th></th>\n",
       "      <th>id</th>\n",
       "      <th>diagnosis</th>\n",
       "      <th>radius_mean</th>\n",
       "      <th>texture_mean</th>\n",
       "      <th>perimeter_mean</th>\n",
       "      <th>area_mean</th>\n",
       "      <th>smoothness_mean</th>\n",
       "      <th>compactness_mean</th>\n",
       "      <th>concavity_mean</th>\n",
       "      <th>concave points_mean</th>\n",
       "      <th>...</th>\n",
       "      <th>texture_worst</th>\n",
       "      <th>perimeter_worst</th>\n",
       "      <th>area_worst</th>\n",
       "      <th>smoothness_worst</th>\n",
       "      <th>compactness_worst</th>\n",
       "      <th>concavity_worst</th>\n",
       "      <th>concave points_worst</th>\n",
       "      <th>symmetry_worst</th>\n",
       "      <th>fractal_dimension_worst</th>\n",
       "      <th>Unnamed: 32</th>\n",
       "    </tr>\n",
       "  </thead>\n",
       "  <tbody>\n",
       "    <tr>\n",
       "      <th>0</th>\n",
       "      <td>842302</td>\n",
       "      <td>M</td>\n",
       "      <td>17.99</td>\n",
       "      <td>10.38</td>\n",
       "      <td>122.80</td>\n",
       "      <td>1001.0</td>\n",
       "      <td>0.11840</td>\n",
       "      <td>0.27760</td>\n",
       "      <td>0.3001</td>\n",
       "      <td>0.14710</td>\n",
       "      <td>...</td>\n",
       "      <td>17.33</td>\n",
       "      <td>184.60</td>\n",
       "      <td>2019.0</td>\n",
       "      <td>0.1622</td>\n",
       "      <td>0.6656</td>\n",
       "      <td>0.7119</td>\n",
       "      <td>0.2654</td>\n",
       "      <td>0.4601</td>\n",
       "      <td>0.11890</td>\n",
       "      <td>NaN</td>\n",
       "    </tr>\n",
       "    <tr>\n",
       "      <th>1</th>\n",
       "      <td>842517</td>\n",
       "      <td>M</td>\n",
       "      <td>20.57</td>\n",
       "      <td>17.77</td>\n",
       "      <td>132.90</td>\n",
       "      <td>1326.0</td>\n",
       "      <td>0.08474</td>\n",
       "      <td>0.07864</td>\n",
       "      <td>0.0869</td>\n",
       "      <td>0.07017</td>\n",
       "      <td>...</td>\n",
       "      <td>23.41</td>\n",
       "      <td>158.80</td>\n",
       "      <td>1956.0</td>\n",
       "      <td>0.1238</td>\n",
       "      <td>0.1866</td>\n",
       "      <td>0.2416</td>\n",
       "      <td>0.1860</td>\n",
       "      <td>0.2750</td>\n",
       "      <td>0.08902</td>\n",
       "      <td>NaN</td>\n",
       "    </tr>\n",
       "    <tr>\n",
       "      <th>2</th>\n",
       "      <td>84300903</td>\n",
       "      <td>M</td>\n",
       "      <td>19.69</td>\n",
       "      <td>21.25</td>\n",
       "      <td>130.00</td>\n",
       "      <td>1203.0</td>\n",
       "      <td>0.10960</td>\n",
       "      <td>0.15990</td>\n",
       "      <td>0.1974</td>\n",
       "      <td>0.12790</td>\n",
       "      <td>...</td>\n",
       "      <td>25.53</td>\n",
       "      <td>152.50</td>\n",
       "      <td>1709.0</td>\n",
       "      <td>0.1444</td>\n",
       "      <td>0.4245</td>\n",
       "      <td>0.4504</td>\n",
       "      <td>0.2430</td>\n",
       "      <td>0.3613</td>\n",
       "      <td>0.08758</td>\n",
       "      <td>NaN</td>\n",
       "    </tr>\n",
       "    <tr>\n",
       "      <th>3</th>\n",
       "      <td>84348301</td>\n",
       "      <td>M</td>\n",
       "      <td>11.42</td>\n",
       "      <td>20.38</td>\n",
       "      <td>77.58</td>\n",
       "      <td>386.1</td>\n",
       "      <td>0.14250</td>\n",
       "      <td>0.28390</td>\n",
       "      <td>0.2414</td>\n",
       "      <td>0.10520</td>\n",
       "      <td>...</td>\n",
       "      <td>26.50</td>\n",
       "      <td>98.87</td>\n",
       "      <td>567.7</td>\n",
       "      <td>0.2098</td>\n",
       "      <td>0.8663</td>\n",
       "      <td>0.6869</td>\n",
       "      <td>0.2575</td>\n",
       "      <td>0.6638</td>\n",
       "      <td>0.17300</td>\n",
       "      <td>NaN</td>\n",
       "    </tr>\n",
       "    <tr>\n",
       "      <th>4</th>\n",
       "      <td>84358402</td>\n",
       "      <td>M</td>\n",
       "      <td>20.29</td>\n",
       "      <td>14.34</td>\n",
       "      <td>135.10</td>\n",
       "      <td>1297.0</td>\n",
       "      <td>0.10030</td>\n",
       "      <td>0.13280</td>\n",
       "      <td>0.1980</td>\n",
       "      <td>0.10430</td>\n",
       "      <td>...</td>\n",
       "      <td>16.67</td>\n",
       "      <td>152.20</td>\n",
       "      <td>1575.0</td>\n",
       "      <td>0.1374</td>\n",
       "      <td>0.2050</td>\n",
       "      <td>0.4000</td>\n",
       "      <td>0.1625</td>\n",
       "      <td>0.2364</td>\n",
       "      <td>0.07678</td>\n",
       "      <td>NaN</td>\n",
       "    </tr>\n",
       "  </tbody>\n",
       "</table>\n",
       "<p>5 rows × 33 columns</p>\n",
       "</div>"
      ],
      "text/plain": [
       "         id diagnosis  radius_mean  texture_mean  perimeter_mean  area_mean  \\\n",
       "0    842302         M        17.99         10.38          122.80     1001.0   \n",
       "1    842517         M        20.57         17.77          132.90     1326.0   \n",
       "2  84300903         M        19.69         21.25          130.00     1203.0   \n",
       "3  84348301         M        11.42         20.38           77.58      386.1   \n",
       "4  84358402         M        20.29         14.34          135.10     1297.0   \n",
       "\n",
       "   smoothness_mean  compactness_mean  concavity_mean  concave points_mean  \\\n",
       "0          0.11840           0.27760          0.3001              0.14710   \n",
       "1          0.08474           0.07864          0.0869              0.07017   \n",
       "2          0.10960           0.15990          0.1974              0.12790   \n",
       "3          0.14250           0.28390          0.2414              0.10520   \n",
       "4          0.10030           0.13280          0.1980              0.10430   \n",
       "\n",
       "      ...       texture_worst  perimeter_worst  area_worst  smoothness_worst  \\\n",
       "0     ...               17.33           184.60      2019.0            0.1622   \n",
       "1     ...               23.41           158.80      1956.0            0.1238   \n",
       "2     ...               25.53           152.50      1709.0            0.1444   \n",
       "3     ...               26.50            98.87       567.7            0.2098   \n",
       "4     ...               16.67           152.20      1575.0            0.1374   \n",
       "\n",
       "   compactness_worst  concavity_worst  concave points_worst  symmetry_worst  \\\n",
       "0             0.6656           0.7119                0.2654          0.4601   \n",
       "1             0.1866           0.2416                0.1860          0.2750   \n",
       "2             0.4245           0.4504                0.2430          0.3613   \n",
       "3             0.8663           0.6869                0.2575          0.6638   \n",
       "4             0.2050           0.4000                0.1625          0.2364   \n",
       "\n",
       "   fractal_dimension_worst  Unnamed: 32  \n",
       "0                  0.11890          NaN  \n",
       "1                  0.08902          NaN  \n",
       "2                  0.08758          NaN  \n",
       "3                  0.17300          NaN  \n",
       "4                  0.07678          NaN  \n",
       "\n",
       "[5 rows x 33 columns]"
      ]
     },
     "execution_count": 3,
     "metadata": {},
     "output_type": "execute_result"
    }
   ],
   "source": [
    "df.head()"
   ]
  },
  {
   "cell_type": "code",
   "execution_count": 4,
   "metadata": {},
   "outputs": [
    {
     "data": {
      "text/plain": [
       "Index(['id', 'diagnosis', 'radius_mean', 'texture_mean', 'perimeter_mean',\n",
       "       'area_mean', 'smoothness_mean', 'compactness_mean', 'concavity_mean',\n",
       "       'concave points_mean', 'symmetry_mean', 'fractal_dimension_mean',\n",
       "       'radius_se', 'texture_se', 'perimeter_se', 'area_se', 'smoothness_se',\n",
       "       'compactness_se', 'concavity_se', 'concave points_se', 'symmetry_se',\n",
       "       'fractal_dimension_se', 'radius_worst', 'texture_worst',\n",
       "       'perimeter_worst', 'area_worst', 'smoothness_worst',\n",
       "       'compactness_worst', 'concavity_worst', 'concave points_worst',\n",
       "       'symmetry_worst', 'fractal_dimension_worst', 'Unnamed: 32'],\n",
       "      dtype='object')"
      ]
     },
     "execution_count": 4,
     "metadata": {},
     "output_type": "execute_result"
    }
   ],
   "source": [
    "df.columns"
   ]
  },
  {
   "cell_type": "code",
   "execution_count": 5,
   "metadata": {},
   "outputs": [],
   "source": [
    "df.drop('Unnamed: 32', axis=1, inplace = True)"
   ]
  },
  {
   "cell_type": "code",
   "execution_count": 6,
   "metadata": {},
   "outputs": [],
   "source": [
    "df.drop('id', axis=1,inplace=True)"
   ]
  },
  {
   "cell_type": "code",
   "execution_count": 31,
   "metadata": {},
   "outputs": [
    {
     "data": {
      "image/png": "[encoded data removed]",
      "text/plain": [
       "<Figure size 1080x1440 with 30 Axes>"
      ]
     },
     "metadata": {
      "needs_background": "light"
     },
     "output_type": "display_data"
    }
   ],
   "source": [
    "df.hist(figsize = (15,20))\n",
    "plt.show()"
   ]
  },
  {
   "cell_type": "code",
   "execution_count": 35,
   "metadata": {},
   "outputs": [],
   "source": [
    "#from pandas.plotting import scatter_matrix\n",
    "#scatter_matrix(df, figsize = (15,20))\n",
    "#plt.show()"
   ]
  },
  {
   "cell_type": "code",
   "execution_count": 36,
   "metadata": {},
   "outputs": [],
   "source": [
    "#plt.figure(figsize= (10,10))\n",
    "#sns.heatmap(df.corr())"
   ]
  },
  {
   "cell_type": "code",
   "execution_count": 8,
   "metadata": {},
   "outputs": [],
   "source": [
    "Y = df[\"diagnosis\"]"
   ]
  },
  {
   "cell_type": "code",
   "execution_count": 9,
   "metadata": {},
   "outputs": [],
   "source": [
    "df.drop('diagnosis', axis=1, inplace=True)"
   ]
  },
  {
   "cell_type": "code",
   "execution_count": 10,
   "metadata": {},
   "outputs": [
    {
     "data": {
      "text/plain": [
       "(569, 30)"
      ]
     },
     "execution_count": 10,
     "metadata": {},
     "output_type": "execute_result"
    }
   ],
   "source": [
    "df.shape"
   ]
  },
  {
   "cell_type": "code",
   "execution_count": 11,
   "metadata": {},
   "outputs": [],
   "source": [
    "X_train, x_test, Y_train, y_test = train_test_split(df,Y, random_state =5)"
   ]
  },
  {
   "cell_type": "code",
   "execution_count": 12,
   "metadata": {},
   "outputs": [],
   "source": [
    "from sklearn.svm import SVC\n",
    "from sklearn.metrics import accuracy_score"
   ]
  },
  {
   "cell_type": "code",
   "execution_count": 13,
   "metadata": {
    "scrolled": true
   },
   "outputs": [
    {
     "data": {
      "text/plain": [
       "SVC(C=1.0, cache_size=200, class_weight=None, coef0=0.0,\n",
       "  decision_function_shape='ovr', degree=3, gamma='auto', kernel='rbf',\n",
       "  max_iter=-1, probability=False, random_state=None, shrinking=True,\n",
       "  tol=0.001, verbose=False)"
      ]
     },
     "execution_count": 13,
     "metadata": {},
     "output_type": "execute_result"
    }
   ],
   "source": [
    "clf = SVC(gamma = 'auto')\n",
    "clf.fit(X_train, Y_train)"
   ]
  },
  {
   "cell_type": "code",
   "execution_count": 14,
   "metadata": {},
   "outputs": [],
   "source": [
    "y_pred = clf.predict(x_test)\n",
    "\n",
    "score = accuracy_score(y_pred, y_test)"
   ]
  },
  {
   "cell_type": "code",
   "execution_count": 15,
   "metadata": {},
   "outputs": [
    {
     "name": "stdout",
     "output_type": "stream",
     "text": [
      "0.6153846153846154\n"
     ]
    }
   ],
   "source": [
    "print(score)"
   ]
  },
  {
   "cell_type": "code",
   "execution_count": 16,
   "metadata": {},
   "outputs": [
    {
     "name": "stdout",
     "output_type": "stream",
     "text": [
      "              precision    recall  f1-score   support\n",
      "\n",
      "           B       0.62      1.00      0.76        88\n",
      "           M       0.00      0.00      0.00        55\n",
      "\n",
      "   micro avg       0.62      0.62      0.62       143\n",
      "   macro avg       0.31      0.50      0.38       143\n",
      "weighted avg       0.38      0.62      0.47       143\n",
      "\n"
     ]
    },
    {
     "name": "stderr",
     "output_type": "stream",
     "text": [
      "c:\\users\\vikas\\appdata\\local\\programs\\python\\python37-32\\lib\\site-packages\\sklearn\\metrics\\classification.py:1143: UndefinedMetricWarning: Precision and F-score are ill-defined and being set to 0.0 in labels with no predicted samples.\n",
      "  'precision', 'predicted', average, warn_for)\n"
     ]
    }
   ],
   "source": [
    "from sklearn.metrics import classification_report\n",
    "print(classification_report(y_test,y_pred))"
   ]
  },
  {
   "cell_type": "code",
   "execution_count": 17,
   "metadata": {},
   "outputs": [
    {
     "name": "stdout",
     "output_type": "stream",
     "text": [
      "[[88  0]\n",
      " [55  0]]\n"
     ]
    }
   ],
   "source": [
    "from sklearn.metrics import confusion_matrix\n",
    "print(confusion_matrix(y_test,y_pred))"
   ]
  },
  {
   "cell_type": "markdown",
   "metadata": {},
   "source": [
    "# Model Improvement\n",
    "1) Normalize the data\n",
    "2) Set the parameter of model to high gamma"
   ]
  },
  {
   "cell_type": "code",
   "execution_count": 18,
   "metadata": {},
   "outputs": [],
   "source": [
    "min_train = X_train.min()\n",
    "range_train = (X_train - min_train).max()\n",
    "X_train_normalized = (X_train - min_train)/range_train"
   ]
  },
  {
   "cell_type": "code",
   "execution_count": 19,
   "metadata": {},
   "outputs": [
    {
     "data": {
      "text/html": [
       "<div>\n",
       "<style scoped>\n",
       "    .dataframe tbody tr th:only-of-type {\n",
       "        vertical-align: middle;\n",
       "    }\n",
       "\n",
       "    .dataframe tbody tr th {\n",
       "        vertical-align: top;\n",
       "    }\n",
       "\n",
       "    .dataframe thead th {\n",
       "        text-align: right;\n",
       "    }\n",
       "</style>\n",
       "<table border=\"1\" class=\"dataframe\">\n",
       "  <thead>\n",
       "    <tr style=\"text-align: right;\">\n",
       "      <th></th>\n",
       "      <th>radius_mean</th>\n",
       "      <th>texture_mean</th>\n",
       "      <th>perimeter_mean</th>\n",
       "      <th>area_mean</th>\n",
       "      <th>smoothness_mean</th>\n",
       "      <th>compactness_mean</th>\n",
       "      <th>concavity_mean</th>\n",
       "      <th>concave points_mean</th>\n",
       "      <th>symmetry_mean</th>\n",
       "      <th>fractal_dimension_mean</th>\n",
       "      <th>...</th>\n",
       "      <th>radius_worst</th>\n",
       "      <th>texture_worst</th>\n",
       "      <th>perimeter_worst</th>\n",
       "      <th>area_worst</th>\n",
       "      <th>smoothness_worst</th>\n",
       "      <th>compactness_worst</th>\n",
       "      <th>concavity_worst</th>\n",
       "      <th>concave points_worst</th>\n",
       "      <th>symmetry_worst</th>\n",
       "      <th>fractal_dimension_worst</th>\n",
       "    </tr>\n",
       "  </thead>\n",
       "  <tbody>\n",
       "    <tr>\n",
       "      <th>373</th>\n",
       "      <td>0.674885</td>\n",
       "      <td>0.258370</td>\n",
       "      <td>0.658015</td>\n",
       "      <td>0.565630</td>\n",
       "      <td>0.377629</td>\n",
       "      <td>0.270597</td>\n",
       "      <td>0.357779</td>\n",
       "      <td>0.444384</td>\n",
       "      <td>0.258081</td>\n",
       "      <td>0.105263</td>\n",
       "      <td>...</td>\n",
       "      <td>0.692338</td>\n",
       "      <td>0.297175</td>\n",
       "      <td>0.683080</td>\n",
       "      <td>0.542319</td>\n",
       "      <td>0.656957</td>\n",
       "      <td>0.269921</td>\n",
       "      <td>0.376380</td>\n",
       "      <td>0.725773</td>\n",
       "      <td>0.267047</td>\n",
       "      <td>0.101732</td>\n",
       "    </tr>\n",
       "    <tr>\n",
       "      <th>289</th>\n",
       "      <td>0.216859</td>\n",
       "      <td>0.310450</td>\n",
       "      <td>0.205191</td>\n",
       "      <td>0.119867</td>\n",
       "      <td>0.311456</td>\n",
       "      <td>0.094166</td>\n",
       "      <td>0.056209</td>\n",
       "      <td>0.108002</td>\n",
       "      <td>0.481313</td>\n",
       "      <td>0.209434</td>\n",
       "      <td>...</td>\n",
       "      <td>0.175863</td>\n",
       "      <td>0.376333</td>\n",
       "      <td>0.169494</td>\n",
       "      <td>0.084422</td>\n",
       "      <td>0.313915</td>\n",
       "      <td>0.067711</td>\n",
       "      <td>0.068136</td>\n",
       "      <td>0.213162</td>\n",
       "      <td>0.404372</td>\n",
       "      <td>0.097731</td>\n",
       "    </tr>\n",
       "    <tr>\n",
       "      <th>208</th>\n",
       "      <td>0.302831</td>\n",
       "      <td>0.433886</td>\n",
       "      <td>0.312559</td>\n",
       "      <td>0.183195</td>\n",
       "      <td>0.429448</td>\n",
       "      <td>0.395436</td>\n",
       "      <td>0.203960</td>\n",
       "      <td>0.253579</td>\n",
       "      <td>0.398990</td>\n",
       "      <td>0.505351</td>\n",
       "      <td>...</td>\n",
       "      <td>0.262803</td>\n",
       "      <td>0.456823</td>\n",
       "      <td>0.287986</td>\n",
       "      <td>0.139861</td>\n",
       "      <td>0.492390</td>\n",
       "      <td>0.400607</td>\n",
       "      <td>0.286154</td>\n",
       "      <td>0.386942</td>\n",
       "      <td>0.608933</td>\n",
       "      <td>0.344746</td>\n",
       "    </tr>\n",
       "    <tr>\n",
       "      <th>504</th>\n",
       "      <td>0.113000</td>\n",
       "      <td>0.106865</td>\n",
       "      <td>0.127973</td>\n",
       "      <td>0.049941</td>\n",
       "      <td>1.000000</td>\n",
       "      <td>0.627323</td>\n",
       "      <td>0.227976</td>\n",
       "      <td>0.261034</td>\n",
       "      <td>0.665657</td>\n",
       "      <td>0.984058</td>\n",
       "      <td>...</td>\n",
       "      <td>0.093291</td>\n",
       "      <td>0.116205</td>\n",
       "      <td>0.109396</td>\n",
       "      <td>0.035419</td>\n",
       "      <td>0.919648</td>\n",
       "      <td>0.307371</td>\n",
       "      <td>0.189955</td>\n",
       "      <td>0.352234</td>\n",
       "      <td>0.349964</td>\n",
       "      <td>0.460186</td>\n",
       "    </tr>\n",
       "    <tr>\n",
       "      <th>499</th>\n",
       "      <td>0.672415</td>\n",
       "      <td>0.389922</td>\n",
       "      <td>0.679705</td>\n",
       "      <td>0.558509</td>\n",
       "      <td>0.504378</td>\n",
       "      <td>0.444819</td>\n",
       "      <td>0.512652</td>\n",
       "      <td>0.557157</td>\n",
       "      <td>0.397980</td>\n",
       "      <td>0.267744</td>\n",
       "      <td>...</td>\n",
       "      <td>0.632394</td>\n",
       "      <td>0.499467</td>\n",
       "      <td>0.661952</td>\n",
       "      <td>0.485031</td>\n",
       "      <td>0.581241</td>\n",
       "      <td>0.322506</td>\n",
       "      <td>0.468688</td>\n",
       "      <td>0.726117</td>\n",
       "      <td>0.217391</td>\n",
       "      <td>0.229240</td>\n",
       "    </tr>\n",
       "  </tbody>\n",
       "</table>\n",
       "<p>5 rows × 30 columns</p>\n",
       "</div>"
      ],
      "text/plain": [
       "     radius_mean  texture_mean  perimeter_mean  area_mean  smoothness_mean  \\\n",
       "373     0.674885      0.258370        0.658015   0.565630         0.377629   \n",
       "289     0.216859      0.310450        0.205191   0.119867         0.311456   \n",
       "208     0.302831      0.433886        0.312559   0.183195         0.429448   \n",
       "504     0.113000      0.106865        0.127973   0.049941         1.000000   \n",
       "499     0.672415      0.389922        0.679705   0.558509         0.504378   \n",
       "\n",
       "     compactness_mean  concavity_mean  concave points_mean  symmetry_mean  \\\n",
       "373          0.270597        0.357779             0.444384       0.258081   \n",
       "289          0.094166        0.056209             0.108002       0.481313   \n",
       "208          0.395436        0.203960             0.253579       0.398990   \n",
       "504          0.627323        0.227976             0.261034       0.665657   \n",
       "499          0.444819        0.512652             0.557157       0.397980   \n",
       "\n",
       "     fractal_dimension_mean           ...             radius_worst  \\\n",
       "373                0.105263           ...                 0.692338   \n",
       "289                0.209434           ...                 0.175863   \n",
       "208                0.505351           ...                 0.262803   \n",
       "504                0.984058           ...                 0.093291   \n",
       "499                0.267744           ...                 0.632394   \n",
       "\n",
       "     texture_worst  perimeter_worst  area_worst  smoothness_worst  \\\n",
       "373       0.297175         0.683080    0.542319          0.656957   \n",
       "289       0.376333         0.169494    0.084422          0.313915   \n",
       "208       0.456823         0.287986    0.139861          0.492390   \n",
       "504       0.116205         0.109396    0.035419          0.919648   \n",
       "499       0.499467         0.661952    0.485031          0.581241   \n",
       "\n",
       "     compactness_worst  concavity_worst  concave points_worst  symmetry_worst  \\\n",
       "373           0.269921         0.376380              0.725773        0.267047   \n",
       "289           0.067711         0.068136              0.213162        0.404372   \n",
       "208           0.400607         0.286154              0.386942        0.608933   \n",
       "504           0.307371         0.189955              0.352234        0.349964   \n",
       "499           0.322506         0.468688              0.726117        0.217391   \n",
       "\n",
       "     fractal_dimension_worst  \n",
       "373                 0.101732  \n",
       "289                 0.097731  \n",
       "208                 0.344746  \n",
       "504                 0.460186  \n",
       "499                 0.229240  \n",
       "\n",
       "[5 rows x 30 columns]"
      ]
     },
     "execution_count": 19,
     "metadata": {},
     "output_type": "execute_result"
    }
   ],
   "source": [
    "X_train_normalized.head()"
   ]
  },
  {
   "cell_type": "code",
   "execution_count": 20,
   "metadata": {},
   "outputs": [],
   "source": [
    "min_test = x_test.min()\n",
    "range_test = (x_test - min_test).max()\n",
    "X_test_normalized = (x_test - min_test)/range_test"
   ]
  },
  {
   "cell_type": "code",
   "execution_count": 21,
   "metadata": {},
   "outputs": [
    {
     "data": {
      "text/html": [
       "<div>\n",
       "<style scoped>\n",
       "    .dataframe tbody tr th:only-of-type {\n",
       "        vertical-align: middle;\n",
       "    }\n",
       "\n",
       "    .dataframe tbody tr th {\n",
       "        vertical-align: top;\n",
       "    }\n",
       "\n",
       "    .dataframe thead th {\n",
       "        text-align: right;\n",
       "    }\n",
       "</style>\n",
       "<table border=\"1\" class=\"dataframe\">\n",
       "  <thead>\n",
       "    <tr style=\"text-align: right;\">\n",
       "      <th></th>\n",
       "      <th>radius_mean</th>\n",
       "      <th>texture_mean</th>\n",
       "      <th>perimeter_mean</th>\n",
       "      <th>area_mean</th>\n",
       "      <th>smoothness_mean</th>\n",
       "      <th>compactness_mean</th>\n",
       "      <th>concavity_mean</th>\n",
       "      <th>concave points_mean</th>\n",
       "      <th>symmetry_mean</th>\n",
       "      <th>fractal_dimension_mean</th>\n",
       "      <th>...</th>\n",
       "      <th>radius_worst</th>\n",
       "      <th>texture_worst</th>\n",
       "      <th>perimeter_worst</th>\n",
       "      <th>area_worst</th>\n",
       "      <th>smoothness_worst</th>\n",
       "      <th>compactness_worst</th>\n",
       "      <th>concavity_worst</th>\n",
       "      <th>concave points_worst</th>\n",
       "      <th>symmetry_worst</th>\n",
       "      <th>fractal_dimension_worst</th>\n",
       "    </tr>\n",
       "  </thead>\n",
       "  <tbody>\n",
       "    <tr>\n",
       "      <th>28</th>\n",
       "      <td>0.355990</td>\n",
       "      <td>0.630143</td>\n",
       "      <td>0.363307</td>\n",
       "      <td>0.230073</td>\n",
       "      <td>0.553036</td>\n",
       "      <td>0.492624</td>\n",
       "      <td>0.462999</td>\n",
       "      <td>0.457449</td>\n",
       "      <td>0.518651</td>\n",
       "      <td>0.316844</td>\n",
       "      <td>...</td>\n",
       "      <td>0.414799</td>\n",
       "      <td>0.796791</td>\n",
       "      <td>0.472349</td>\n",
       "      <td>0.254533</td>\n",
       "      <td>0.565411</td>\n",
       "      <td>0.630446</td>\n",
       "      <td>0.505990</td>\n",
       "      <td>0.734398</td>\n",
       "      <td>0.476754</td>\n",
       "      <td>0.369512</td>\n",
       "    </tr>\n",
       "    <tr>\n",
       "      <th>163</th>\n",
       "      <td>0.207179</td>\n",
       "      <td>0.498051</td>\n",
       "      <td>0.196554</td>\n",
       "      <td>0.113447</td>\n",
       "      <td>0.461819</td>\n",
       "      <td>0.248425</td>\n",
       "      <td>0.147730</td>\n",
       "      <td>0.147517</td>\n",
       "      <td>0.249641</td>\n",
       "      <td>0.363966</td>\n",
       "      <td>...</td>\n",
       "      <td>0.166543</td>\n",
       "      <td>0.528409</td>\n",
       "      <td>0.151616</td>\n",
       "      <td>0.075720</td>\n",
       "      <td>0.425006</td>\n",
       "      <td>0.204029</td>\n",
       "      <td>0.134824</td>\n",
       "      <td>0.297315</td>\n",
       "      <td>0.124248</td>\n",
       "      <td>0.302081</td>\n",
       "    </tr>\n",
       "    <tr>\n",
       "      <th>123</th>\n",
       "      <td>0.315771</td>\n",
       "      <td>0.007362</td>\n",
       "      <td>0.303261</td>\n",
       "      <td>0.190153</td>\n",
       "      <td>0.577795</td>\n",
       "      <td>0.278502</td>\n",
       "      <td>0.243246</td>\n",
       "      <td>0.302039</td>\n",
       "      <td>0.468436</td>\n",
       "      <td>0.287420</td>\n",
       "      <td>...</td>\n",
       "      <td>0.245213</td>\n",
       "      <td>0.103944</td>\n",
       "      <td>0.231566</td>\n",
       "      <td>0.123795</td>\n",
       "      <td>0.321744</td>\n",
       "      <td>0.141853</td>\n",
       "      <td>0.204473</td>\n",
       "      <td>0.443033</td>\n",
       "      <td>0.248697</td>\n",
       "      <td>0.210701</td>\n",
       "    </tr>\n",
       "    <tr>\n",
       "      <th>361</th>\n",
       "      <td>0.255442</td>\n",
       "      <td>0.469900</td>\n",
       "      <td>0.236412</td>\n",
       "      <td>0.148970</td>\n",
       "      <td>0.261402</td>\n",
       "      <td>0.113184</td>\n",
       "      <td>0.091994</td>\n",
       "      <td>0.126712</td>\n",
       "      <td>0.439024</td>\n",
       "      <td>0.136887</td>\n",
       "      <td>...</td>\n",
       "      <td>0.189550</td>\n",
       "      <td>0.545789</td>\n",
       "      <td>0.180510</td>\n",
       "      <td>0.092753</td>\n",
       "      <td>0.193225</td>\n",
       "      <td>0.128174</td>\n",
       "      <td>0.096805</td>\n",
       "      <td>0.203701</td>\n",
       "      <td>0.198196</td>\n",
       "      <td>0.096221</td>\n",
       "    </tr>\n",
       "    <tr>\n",
       "      <th>549</th>\n",
       "      <td>0.130763</td>\n",
       "      <td>0.584236</td>\n",
       "      <td>0.115507</td>\n",
       "      <td>0.068652</td>\n",
       "      <td>0.210581</td>\n",
       "      <td>0.121384</td>\n",
       "      <td>0.042586</td>\n",
       "      <td>0.042656</td>\n",
       "      <td>0.554519</td>\n",
       "      <td>0.271642</td>\n",
       "      <td>...</td>\n",
       "      <td>0.146133</td>\n",
       "      <td>0.620989</td>\n",
       "      <td>0.133699</td>\n",
       "      <td>0.063883</td>\n",
       "      <td>0.240770</td>\n",
       "      <td>0.124330</td>\n",
       "      <td>0.049473</td>\n",
       "      <td>0.118433</td>\n",
       "      <td>0.282766</td>\n",
       "      <td>0.178429</td>\n",
       "    </tr>\n",
       "  </tbody>\n",
       "</table>\n",
       "<p>5 rows × 30 columns</p>\n",
       "</div>"
      ],
      "text/plain": [
       "     radius_mean  texture_mean  perimeter_mean  area_mean  smoothness_mean  \\\n",
       "28      0.355990      0.630143        0.363307   0.230073         0.553036   \n",
       "163     0.207179      0.498051        0.196554   0.113447         0.461819   \n",
       "123     0.315771      0.007362        0.303261   0.190153         0.577795   \n",
       "361     0.255442      0.469900        0.236412   0.148970         0.261402   \n",
       "549     0.130763      0.584236        0.115507   0.068652         0.210581   \n",
       "\n",
       "     compactness_mean  concavity_mean  concave points_mean  symmetry_mean  \\\n",
       "28           0.492624        0.462999             0.457449       0.518651   \n",
       "163          0.248425        0.147730             0.147517       0.249641   \n",
       "123          0.278502        0.243246             0.302039       0.468436   \n",
       "361          0.113184        0.091994             0.126712       0.439024   \n",
       "549          0.121384        0.042586             0.042656       0.554519   \n",
       "\n",
       "     fractal_dimension_mean           ...             radius_worst  \\\n",
       "28                 0.316844           ...                 0.414799   \n",
       "163                0.363966           ...                 0.166543   \n",
       "123                0.287420           ...                 0.245213   \n",
       "361                0.136887           ...                 0.189550   \n",
       "549                0.271642           ...                 0.146133   \n",
       "\n",
       "     texture_worst  perimeter_worst  area_worst  smoothness_worst  \\\n",
       "28        0.796791         0.472349    0.254533          0.565411   \n",
       "163       0.528409         0.151616    0.075720          0.425006   \n",
       "123       0.103944         0.231566    0.123795          0.321744   \n",
       "361       0.545789         0.180510    0.092753          0.193225   \n",
       "549       0.620989         0.133699    0.063883          0.240770   \n",
       "\n",
       "     compactness_worst  concavity_worst  concave points_worst  symmetry_worst  \\\n",
       "28            0.630446         0.505990              0.734398        0.476754   \n",
       "163           0.204029         0.134824              0.297315        0.124248   \n",
       "123           0.141853         0.204473              0.443033        0.248697   \n",
       "361           0.128174         0.096805              0.203701        0.198196   \n",
       "549           0.124330         0.049473              0.118433        0.282766   \n",
       "\n",
       "     fractal_dimension_worst  \n",
       "28                  0.369512  \n",
       "163                 0.302081  \n",
       "123                 0.210701  \n",
       "361                 0.096221  \n",
       "549                 0.178429  \n",
       "\n",
       "[5 rows x 30 columns]"
      ]
     },
     "execution_count": 21,
     "metadata": {},
     "output_type": "execute_result"
    }
   ],
   "source": [
    "X_test_normalized.head()"
   ]
  },
  {
   "cell_type": "code",
   "execution_count": 22,
   "metadata": {},
   "outputs": [
    {
     "data": {
      "text/plain": [
       "SVC(C=8.0, cache_size=200, class_weight=None, coef0=0.0,\n",
       "  decision_function_shape='ovr', degree=3, gamma='auto', kernel='rbf',\n",
       "  max_iter=-1, probability=False, random_state=None, shrinking=True,\n",
       "  tol=0.001, verbose=False)"
      ]
     },
     "execution_count": 22,
     "metadata": {},
     "output_type": "execute_result"
    }
   ],
   "source": [
    "clf2 = SVC(gamma='auto', C=8.0)\n",
    "clf2.fit(X_train_normalized, Y_train)"
   ]
  },
  {
   "cell_type": "code",
   "execution_count": 23,
   "metadata": {},
   "outputs": [
    {
     "name": "stdout",
     "output_type": "stream",
     "text": [
      "0.9440559440559441\n"
     ]
    }
   ],
   "source": [
    "y_pred2 = clf2.predict(X_test_normalized)\n",
    "score2 = accuracy_score(y_pred2, y_test)\n",
    "print(score2)"
   ]
  },
  {
   "cell_type": "code",
   "execution_count": 24,
   "metadata": {},
   "outputs": [
    {
     "name": "stdout",
     "output_type": "stream",
     "text": [
      "              precision    recall  f1-score   support\n",
      "\n",
      "           B       0.92      1.00      0.96        88\n",
      "           M       1.00      0.85      0.92        55\n",
      "\n",
      "   micro avg       0.94      0.94      0.94       143\n",
      "   macro avg       0.96      0.93      0.94       143\n",
      "weighted avg       0.95      0.94      0.94       143\n",
      "\n"
     ]
    }
   ],
   "source": [
    "print(classification_report(y_test,y_pred2))"
   ]
  },
  {
   "cell_type": "code",
   "execution_count": 25,
   "metadata": {},
   "outputs": [
    {
     "data": {
      "text/plain": [
       "<matplotlib.axes._subplots.AxesSubplot at 0x1fdcb8f0>"
      ]
     },
     "execution_count": 25,
     "metadata": {},
     "output_type": "execute_result"
    },
    {
     "data": {
      "image/png": "[encoded data removed]",
      "text/plain": [
       "<Figure size 432x288 with 2 Axes>"
      ]
     },
     "metadata": {
      "needs_background": "light"
     },
     "output_type": "display_data"
    }
   ],
   "source": [
    "cm2 =confusion_matrix(y_test,y_pred2)\n",
    "sns.heatmap(cm2, annot = True)"
   ]
  },
  {
   "cell_type": "code",
   "execution_count": 26,
   "metadata": {},
   "outputs": [
    {
     "name": "stdout",
     "output_type": "stream",
     "text": [
      "0.9440559440559441\n"
     ]
    }
   ],
   "source": [
    "score2 = accuracy_score(y_pred2, y_test)\n",
    "print(score2)"
   ]
  },
  {
   "cell_type": "code",
   "execution_count": null,
   "metadata": {},
   "outputs": [],
   "source": []
  },
  {
   "cell_type": "code",
   "execution_count": null,
   "metadata": {},
   "outputs": [],
   "source": []
  }
 ],
 "metadata": {
  "kernelspec": {
   "display_name": "Python 3",
   "language": "python",
   "name": "python3"
  },
  "language_info": {
   "codemirror_mode": {
    "name": "ipython",
    "version": 3
   },
   "file_extension": ".py",
   "mimetype": "text/x-python",
   "name": "python",
   "nbconvert_exporter": "python",
   "pygments_lexer": "ipython3",
   "version": "3.7.2"
  }
 },
 "nbformat": 4,
 "nbformat_minor": 2
}
